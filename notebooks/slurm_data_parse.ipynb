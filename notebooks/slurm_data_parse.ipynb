{
 "cells": [
  {
   "cell_type": "code",
   "execution_count": 96,
   "id": "65bdbfa0",
   "metadata": {},
   "outputs": [],
   "source": [
    "import pandas as pd\n",
    "import re\n",
    "from tqdm.notebook import tqdm\n",
    "import time\n",
    "import matplotlib.pyplot as plt\n",
    "import numpy as np\n",
    "from datetime import datetime\n",
    "import warnings\n",
    "warnings.filterwarnings('ignore')"
   ]
  },
  {
   "cell_type": "code",
   "execution_count": 97,
   "id": "dfd5fb37",
   "metadata": {
    "scrolled": true
   },
   "outputs": [
    {
     "ename": "KeyError",
     "evalue": "'Returncode'",
     "output_type": "error",
     "traceback": [
      "\u001b[1;31m---------------------------------------------------------------------------\u001b[0m",
      "\u001b[1;31mKeyError\u001b[0m                                  Traceback (most recent call last)",
      "\u001b[1;32m~\\anaconda3\\lib\\site-packages\\pandas\\core\\indexes\\base.py\u001b[0m in \u001b[0;36mget_loc\u001b[1;34m(self, key, method, tolerance)\u001b[0m\n\u001b[0;32m   3079\u001b[0m             \u001b[1;32mtry\u001b[0m\u001b[1;33m:\u001b[0m\u001b[1;33m\u001b[0m\u001b[1;33m\u001b[0m\u001b[0m\n\u001b[1;32m-> 3080\u001b[1;33m                 \u001b[1;32mreturn\u001b[0m \u001b[0mself\u001b[0m\u001b[1;33m.\u001b[0m\u001b[0m_engine\u001b[0m\u001b[1;33m.\u001b[0m\u001b[0mget_loc\u001b[0m\u001b[1;33m(\u001b[0m\u001b[0mcasted_key\u001b[0m\u001b[1;33m)\u001b[0m\u001b[1;33m\u001b[0m\u001b[1;33m\u001b[0m\u001b[0m\n\u001b[0m\u001b[0;32m   3081\u001b[0m             \u001b[1;32mexcept\u001b[0m \u001b[0mKeyError\u001b[0m \u001b[1;32mas\u001b[0m \u001b[0merr\u001b[0m\u001b[1;33m:\u001b[0m\u001b[1;33m\u001b[0m\u001b[1;33m\u001b[0m\u001b[0m\n",
      "\u001b[1;32mpandas\\_libs\\index.pyx\u001b[0m in \u001b[0;36mpandas._libs.index.IndexEngine.get_loc\u001b[1;34m()\u001b[0m\n",
      "\u001b[1;32mpandas\\_libs\\index.pyx\u001b[0m in \u001b[0;36mpandas._libs.index.IndexEngine.get_loc\u001b[1;34m()\u001b[0m\n",
      "\u001b[1;32mpandas\\_libs\\hashtable_class_helper.pxi\u001b[0m in \u001b[0;36mpandas._libs.hashtable.PyObjectHashTable.get_item\u001b[1;34m()\u001b[0m\n",
      "\u001b[1;32mpandas\\_libs\\hashtable_class_helper.pxi\u001b[0m in \u001b[0;36mpandas._libs.hashtable.PyObjectHashTable.get_item\u001b[1;34m()\u001b[0m\n",
      "\u001b[1;31mKeyError\u001b[0m: 'Returncode'",
      "\nThe above exception was the direct cause of the following exception:\n",
      "\u001b[1;31mKeyError\u001b[0m                                  Traceback (most recent call last)",
      "\u001b[1;32m<ipython-input-97-5b92b276cde6>\u001b[0m in \u001b[0;36m<module>\u001b[1;34m\u001b[0m\n\u001b[0;32m      1\u001b[0m \u001b[0mheader_list\u001b[0m \u001b[1;33m=\u001b[0m \u001b[1;33m[\u001b[0m\u001b[1;34m'DATE'\u001b[0m\u001b[1;33m,\u001b[0m \u001b[1;34m'USER'\u001b[0m\u001b[1;33m,\u001b[0m \u001b[1;34m'RETRY'\u001b[0m\u001b[1;33m,\u001b[0m \u001b[1;34m'TIME'\u001b[0m\u001b[1;33m,\u001b[0m \u001b[1;34m'RETURNCODE'\u001b[0m\u001b[1;33m,\u001b[0m \u001b[1;34m'COMMAND'\u001b[0m\u001b[1;33m]\u001b[0m\u001b[1;33m\u001b[0m\u001b[1;33m\u001b[0m\u001b[0m\n\u001b[0;32m      2\u001b[0m \u001b[0mdata\u001b[0m \u001b[1;33m=\u001b[0m \u001b[0mpd\u001b[0m\u001b[1;33m.\u001b[0m\u001b[0mread_csv\u001b[0m\u001b[1;33m(\u001b[0m\u001b[1;34m'../data/slurm_wrapper_ce6.log'\u001b[0m\u001b[1;33m,\u001b[0m \u001b[0mnames\u001b[0m\u001b[1;33m=\u001b[0m\u001b[0mheader_list\u001b[0m\u001b[1;33m,\u001b[0m \u001b[0msep\u001b[0m\u001b[1;33m=\u001b[0m\u001b[1;34m' - '\u001b[0m\u001b[1;33m)\u001b[0m\u001b[1;33m\u001b[0m\u001b[1;33m\u001b[0m\u001b[0m\n\u001b[1;32m----> 3\u001b[1;33m \u001b[0mdisplay\u001b[0m\u001b[1;33m(\u001b[0m\u001b[0mdata\u001b[0m\u001b[1;33m[\u001b[0m\u001b[1;34m'Returncode'\u001b[0m\u001b[1;33m]\u001b[0m\u001b[1;33m.\u001b[0m\u001b[0munique\u001b[0m\u001b[1;33m(\u001b[0m\u001b[1;33m)\u001b[0m\u001b[1;33m)\u001b[0m\u001b[1;33m\u001b[0m\u001b[1;33m\u001b[0m\u001b[0m\n\u001b[0m\u001b[0;32m      4\u001b[0m \u001b[0mdata\u001b[0m\u001b[1;33m\u001b[0m\u001b[1;33m\u001b[0m\u001b[0m\n",
      "\u001b[1;32m~\\anaconda3\\lib\\site-packages\\pandas\\core\\frame.py\u001b[0m in \u001b[0;36m__getitem__\u001b[1;34m(self, key)\u001b[0m\n\u001b[0;32m   3022\u001b[0m             \u001b[1;32mif\u001b[0m \u001b[0mself\u001b[0m\u001b[1;33m.\u001b[0m\u001b[0mcolumns\u001b[0m\u001b[1;33m.\u001b[0m\u001b[0mnlevels\u001b[0m \u001b[1;33m>\u001b[0m \u001b[1;36m1\u001b[0m\u001b[1;33m:\u001b[0m\u001b[1;33m\u001b[0m\u001b[1;33m\u001b[0m\u001b[0m\n\u001b[0;32m   3023\u001b[0m                 \u001b[1;32mreturn\u001b[0m \u001b[0mself\u001b[0m\u001b[1;33m.\u001b[0m\u001b[0m_getitem_multilevel\u001b[0m\u001b[1;33m(\u001b[0m\u001b[0mkey\u001b[0m\u001b[1;33m)\u001b[0m\u001b[1;33m\u001b[0m\u001b[1;33m\u001b[0m\u001b[0m\n\u001b[1;32m-> 3024\u001b[1;33m             \u001b[0mindexer\u001b[0m \u001b[1;33m=\u001b[0m \u001b[0mself\u001b[0m\u001b[1;33m.\u001b[0m\u001b[0mcolumns\u001b[0m\u001b[1;33m.\u001b[0m\u001b[0mget_loc\u001b[0m\u001b[1;33m(\u001b[0m\u001b[0mkey\u001b[0m\u001b[1;33m)\u001b[0m\u001b[1;33m\u001b[0m\u001b[1;33m\u001b[0m\u001b[0m\n\u001b[0m\u001b[0;32m   3025\u001b[0m             \u001b[1;32mif\u001b[0m \u001b[0mis_integer\u001b[0m\u001b[1;33m(\u001b[0m\u001b[0mindexer\u001b[0m\u001b[1;33m)\u001b[0m\u001b[1;33m:\u001b[0m\u001b[1;33m\u001b[0m\u001b[1;33m\u001b[0m\u001b[0m\n\u001b[0;32m   3026\u001b[0m                 \u001b[0mindexer\u001b[0m \u001b[1;33m=\u001b[0m \u001b[1;33m[\u001b[0m\u001b[0mindexer\u001b[0m\u001b[1;33m]\u001b[0m\u001b[1;33m\u001b[0m\u001b[1;33m\u001b[0m\u001b[0m\n",
      "\u001b[1;32m~\\anaconda3\\lib\\site-packages\\pandas\\core\\indexes\\base.py\u001b[0m in \u001b[0;36mget_loc\u001b[1;34m(self, key, method, tolerance)\u001b[0m\n\u001b[0;32m   3080\u001b[0m                 \u001b[1;32mreturn\u001b[0m \u001b[0mself\u001b[0m\u001b[1;33m.\u001b[0m\u001b[0m_engine\u001b[0m\u001b[1;33m.\u001b[0m\u001b[0mget_loc\u001b[0m\u001b[1;33m(\u001b[0m\u001b[0mcasted_key\u001b[0m\u001b[1;33m)\u001b[0m\u001b[1;33m\u001b[0m\u001b[1;33m\u001b[0m\u001b[0m\n\u001b[0;32m   3081\u001b[0m             \u001b[1;32mexcept\u001b[0m \u001b[0mKeyError\u001b[0m \u001b[1;32mas\u001b[0m \u001b[0merr\u001b[0m\u001b[1;33m:\u001b[0m\u001b[1;33m\u001b[0m\u001b[1;33m\u001b[0m\u001b[0m\n\u001b[1;32m-> 3082\u001b[1;33m                 \u001b[1;32mraise\u001b[0m \u001b[0mKeyError\u001b[0m\u001b[1;33m(\u001b[0m\u001b[0mkey\u001b[0m\u001b[1;33m)\u001b[0m \u001b[1;32mfrom\u001b[0m \u001b[0merr\u001b[0m\u001b[1;33m\u001b[0m\u001b[1;33m\u001b[0m\u001b[0m\n\u001b[0m\u001b[0;32m   3083\u001b[0m \u001b[1;33m\u001b[0m\u001b[0m\n\u001b[0;32m   3084\u001b[0m         \u001b[1;32mif\u001b[0m \u001b[0mtolerance\u001b[0m \u001b[1;32mis\u001b[0m \u001b[1;32mnot\u001b[0m \u001b[1;32mNone\u001b[0m\u001b[1;33m:\u001b[0m\u001b[1;33m\u001b[0m\u001b[1;33m\u001b[0m\u001b[0m\n",
      "\u001b[1;31mKeyError\u001b[0m: 'Returncode'"
     ]
    }
   ],
   "source": [
    "header_list = ['DATE', 'USER', 'RETRY', 'TIME', 'RETURNCODE', 'COMMAND']\n",
    "data = pd.read_csv('../data/slurm_wrapper_ce6.log', names=header_list, sep=' - ')\n",
    "\n",
    "data"
   ]
  },
  {
   "cell_type": "code",
   "execution_count": null,
   "id": "735b8f5b",
   "metadata": {},
   "outputs": [],
   "source": [
    "data = data.drop(columns='Retry')\n",
    "data = data[data['RETURNCODE'] != 'returncode 0']\n",
    "data"
   ]
  },
  {
   "cell_type": "code",
   "execution_count": null,
   "id": "ef213472",
   "metadata": {},
   "outputs": [],
   "source": [
    "data_user = data[data['RETURN'] == 'user 9204']\n",
    "data_user\n"
   ]
  },
  {
   "cell_type": "code",
   "execution_count": null,
   "id": "7a5eca27",
   "metadata": {
    "scrolled": true
   },
   "outputs": [],
   "source": [
    "data_user_sbatch = (data_user[data_user['COMMAND'].str.contains('sbatch')]\n",
    "                   .reset_index()\n",
    "                   .drop(columns='index'))\n",
    "data_user_sbatch['Time'] = data_user_sbatch['Time'].map(lambda x: x.lstrip('time '))\n",
    "data_user_sbatch['Returncode'] = data_user_sbatch['Returncode'].map(lambda x: x.lstrip('returncode '))\n",
    "data_user_sbatch['Time'] = pd.to_numeric(data_user_sbatch['Time'])\n",
    "data_user_sbatch = data_user_sbatch[(data_user_sbatch['Returncode'] == '1') & (data_user_sbatch['Time'] > 15)]\n",
    "data_user_sbatch['SERVER'] = 'ce5'\n",
    "data_user_sbatch"
   ]
  },
  {
   "cell_type": "code",
   "execution_count": null,
   "id": "a11373cb",
   "metadata": {},
   "outputs": [],
   "source": [
    "data_two = pd.read_csv('../data/slurm_wrapper_ce5.log', names=header_list, sep=' - ')\n",
    "\n",
    "data_two = data_two.drop(columns='Retry')\n",
    "data_two = data_two[data_two['Returncode'] != 'returncode 0']\n",
    "\n",
    "data_user_two = data_two[data_two['User'] == 'user 9204']\n",
    "\n",
    "data_user_sbatch_two = (data_user_two[data_user_two['Command'].str.contains('sbatch')]\n",
    "                   .reset_index()\n",
    "                   .drop(columns='index'))\n",
    "data_user_sbatch_two['Time'] = data_user_sbatch_two['Time'].map(lambda x: x.lstrip('time '))\n",
    "data_user_sbatch_two['Returncode'] = data_user_sbatch_two['Returncode'].map(lambda x: x.lstrip('returncode '))\n",
    "data_user_sbatch_two['Time'] = pd.to_numeric(data_user_sbatch_two['Time'])\n",
    "data_user_sbatch_two = data_user_sbatch_two[(data_user_sbatch_two['Returncode'] == '1') & (data_user_sbatch_two['Time'] > 15)]\n",
    "data_user_sbatch_two['SERVER'] = 'ce6'"
   ]
  },
  {
   "cell_type": "code",
   "execution_count": null,
   "id": "15698a46",
   "metadata": {
    "scrolled": true
   },
   "outputs": [],
   "source": [
    "logs= data_user_sbatch.append(data_user_sbatch_two)\n",
    "logs"
   ]
  },
  {
   "cell_type": "code",
   "execution_count": null,
   "id": "c5320d79",
   "metadata": {},
   "outputs": [],
   "source": [
    "logs['Date'] = pd.to_datetime(logs['Date'])\n",
    "logs.info()"
   ]
  },
  {
   "cell_type": "code",
   "execution_count": null,
   "id": "08dba792",
   "metadata": {},
   "outputs": [],
   "source": [
    "data_user_sbatch = data_user.sort_values('Date')\n",
    "data_user_sbatch\n",
    "\n",
    "data_user_sbatch = data_user_sbatch.reset_index()\n",
    "data_user_sbatch = data_user_sbatch.drop(columns='index')\n",
    "data_user_sbatch\n",
    "\n",
    "data_user_sbatch['total_every_hour'] = (data_user_sbatch\n",
    "                           .rolling('60min', on = 'Date')['Returncode']\n",
    "                           .count())\n"
   ]
  },
  {
   "cell_type": "code",
   "execution_count": null,
   "id": "f9be2331",
   "metadata": {},
   "outputs": [],
   "source": []
  }
 ],
 "metadata": {
  "kernelspec": {
   "display_name": "Python 3",
   "language": "python",
   "name": "python3"
  },
  "language_info": {
   "codemirror_mode": {
    "name": "ipython",
    "version": 3
   },
   "file_extension": ".py",
   "mimetype": "text/x-python",
   "name": "python",
   "nbconvert_exporter": "python",
   "pygments_lexer": "ipython3",
   "version": "3.8.8"
  }
 },
 "nbformat": 4,
 "nbformat_minor": 5
}
