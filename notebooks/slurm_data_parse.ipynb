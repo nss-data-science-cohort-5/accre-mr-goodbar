{
 "cells": [
  {
   "cell_type": "code",
   "execution_count": 153,
   "id": "65bdbfa0",
   "metadata": {},
   "outputs": [],
   "source": [
    "import pandas as pd\n",
    "import re\n",
    "from tqdm.notebook import tqdm\n",
    "import time\n",
    "import matplotlib.pyplot as plt\n",
    "import numpy as np\n",
    "from datetime import datetime\n",
    "import warnings\n",
    "warnings.filterwarnings('ignore')"
   ]
  },
  {
   "cell_type": "code",
   "execution_count": 154,
   "id": "dfd5fb37",
   "metadata": {
    "scrolled": true
   },
   "outputs": [
    {
     "data": {
      "text/html": [
       "<div>\n",
       "<style scoped>\n",
       "    .dataframe tbody tr th:only-of-type {\n",
       "        vertical-align: middle;\n",
       "    }\n",
       "\n",
       "    .dataframe tbody tr th {\n",
       "        vertical-align: top;\n",
       "    }\n",
       "\n",
       "    .dataframe thead th {\n",
       "        text-align: right;\n",
       "    }\n",
       "</style>\n",
       "<table border=\"1\" class=\"dataframe\">\n",
       "  <thead>\n",
       "    <tr style=\"text-align: right;\">\n",
       "      <th></th>\n",
       "      <th>DATE</th>\n",
       "      <th>USER</th>\n",
       "      <th>RETRY</th>\n",
       "      <th>TIME</th>\n",
       "      <th>RETURNCODE</th>\n",
       "      <th>COMMAND</th>\n",
       "    </tr>\n",
       "  </thead>\n",
       "  <tbody>\n",
       "    <tr>\n",
       "      <th>0</th>\n",
       "      <td>2020-10-16 10:37:44.163454</td>\n",
       "      <td>user 9202</td>\n",
       "      <td>retry 0</td>\n",
       "      <td>time 0.08495402336120605</td>\n",
       "      <td>returncode 0</td>\n",
       "      <td>command ['/usr/bin/scontrol', 'show', 'job', '...</td>\n",
       "    </tr>\n",
       "    <tr>\n",
       "      <th>1</th>\n",
       "      <td>2020-10-16 10:37:44.206654</td>\n",
       "      <td>user 9202</td>\n",
       "      <td>retry 0</td>\n",
       "      <td>time 0.08943057060241699</td>\n",
       "      <td>returncode 0</td>\n",
       "      <td>command ['/usr/bin/scontrol', 'show', 'job', '...</td>\n",
       "    </tr>\n",
       "    <tr>\n",
       "      <th>2</th>\n",
       "      <td>2020-10-16 10:37:44.218760</td>\n",
       "      <td>user 9202</td>\n",
       "      <td>retry 0</td>\n",
       "      <td>time 0.05928945541381836</td>\n",
       "      <td>returncode 0</td>\n",
       "      <td>command ['/usr/bin/scontrol', 'show', 'job', '...</td>\n",
       "    </tr>\n",
       "    <tr>\n",
       "      <th>3</th>\n",
       "      <td>2020-10-16 10:37:44.256403</td>\n",
       "      <td>user 9202</td>\n",
       "      <td>retry 0</td>\n",
       "      <td>time 0.038695573806762695</td>\n",
       "      <td>returncode 0</td>\n",
       "      <td>command ['/usr/bin/scontrol', 'show', 'job', '...</td>\n",
       "    </tr>\n",
       "    <tr>\n",
       "      <th>4</th>\n",
       "      <td>2020-10-16 10:37:44.611603</td>\n",
       "      <td>user 9202</td>\n",
       "      <td>retry 0</td>\n",
       "      <td>time 0.03343677520751953</td>\n",
       "      <td>returncode 0</td>\n",
       "      <td>command ['/usr/bin/scontrol', 'show', 'job', '...</td>\n",
       "    </tr>\n",
       "    <tr>\n",
       "      <th>...</th>\n",
       "      <td>...</td>\n",
       "      <td>...</td>\n",
       "      <td>...</td>\n",
       "      <td>...</td>\n",
       "      <td>...</td>\n",
       "      <td>...</td>\n",
       "    </tr>\n",
       "    <tr>\n",
       "      <th>4776515</th>\n",
       "      <td>2021-10-07 21:59:35.014602</td>\n",
       "      <td>user 9221</td>\n",
       "      <td>retry 0</td>\n",
       "      <td>time 0.060086965560913086</td>\n",
       "      <td>returncode 0</td>\n",
       "      <td>command ['/usr/bin/squeue', '-o', '%i %T', '-u...</td>\n",
       "    </tr>\n",
       "    <tr>\n",
       "      <th>4776516</th>\n",
       "      <td>2021-10-07 21:59:35.238970</td>\n",
       "      <td>user 9202</td>\n",
       "      <td>retry 0</td>\n",
       "      <td>time 0.09804415702819824</td>\n",
       "      <td>returncode 0</td>\n",
       "      <td>command ['/usr/bin/squeue', '-o', '%i %T', '-u...</td>\n",
       "    </tr>\n",
       "    <tr>\n",
       "      <th>4776517</th>\n",
       "      <td>2021-10-07 21:59:57.265189</td>\n",
       "      <td>user 9203</td>\n",
       "      <td>retry 0</td>\n",
       "      <td>time 0.02454972267150879</td>\n",
       "      <td>returncode 0</td>\n",
       "      <td>command ['/usr/bin/squeue', '-o', '%i %T', '-u...</td>\n",
       "    </tr>\n",
       "    <tr>\n",
       "      <th>4776518</th>\n",
       "      <td>2021-10-07 22:00:04.024360</td>\n",
       "      <td>user 9201</td>\n",
       "      <td>retry 0</td>\n",
       "      <td>time 0.03941917419433594</td>\n",
       "      <td>returncode 0</td>\n",
       "      <td>command ['/usr/bin/squeue', '-o', '%i %T', '-u...</td>\n",
       "    </tr>\n",
       "    <tr>\n",
       "      <th>4776519</th>\n",
       "      <td>2021-10-07 22:00:20.919558</td>\n",
       "      <td>user 9204</td>\n",
       "      <td>retry 0</td>\n",
       "      <td>time 0.028496265411376953</td>\n",
       "      <td>returncode 0</td>\n",
       "      <td>command ['/usr/bin/sbatch', '/tmp/condor_g_scr...</td>\n",
       "    </tr>\n",
       "  </tbody>\n",
       "</table>\n",
       "<p>4776520 rows × 6 columns</p>\n",
       "</div>"
      ],
      "text/plain": [
       "                               DATE       USER    RETRY  \\\n",
       "0        2020-10-16 10:37:44.163454  user 9202  retry 0   \n",
       "1        2020-10-16 10:37:44.206654  user 9202  retry 0   \n",
       "2        2020-10-16 10:37:44.218760  user 9202  retry 0   \n",
       "3        2020-10-16 10:37:44.256403  user 9202  retry 0   \n",
       "4        2020-10-16 10:37:44.611603  user 9202  retry 0   \n",
       "...                             ...        ...      ...   \n",
       "4776515  2021-10-07 21:59:35.014602  user 9221  retry 0   \n",
       "4776516  2021-10-07 21:59:35.238970  user 9202  retry 0   \n",
       "4776517  2021-10-07 21:59:57.265189  user 9203  retry 0   \n",
       "4776518  2021-10-07 22:00:04.024360  user 9201  retry 0   \n",
       "4776519  2021-10-07 22:00:20.919558  user 9204  retry 0   \n",
       "\n",
       "                              TIME    RETURNCODE  \\\n",
       "0         time 0.08495402336120605  returncode 0   \n",
       "1         time 0.08943057060241699  returncode 0   \n",
       "2         time 0.05928945541381836  returncode 0   \n",
       "3        time 0.038695573806762695  returncode 0   \n",
       "4         time 0.03343677520751953  returncode 0   \n",
       "...                            ...           ...   \n",
       "4776515  time 0.060086965560913086  returncode 0   \n",
       "4776516   time 0.09804415702819824  returncode 0   \n",
       "4776517   time 0.02454972267150879  returncode 0   \n",
       "4776518   time 0.03941917419433594  returncode 0   \n",
       "4776519  time 0.028496265411376953  returncode 0   \n",
       "\n",
       "                                                   COMMAND  \n",
       "0        command ['/usr/bin/scontrol', 'show', 'job', '...  \n",
       "1        command ['/usr/bin/scontrol', 'show', 'job', '...  \n",
       "2        command ['/usr/bin/scontrol', 'show', 'job', '...  \n",
       "3        command ['/usr/bin/scontrol', 'show', 'job', '...  \n",
       "4        command ['/usr/bin/scontrol', 'show', 'job', '...  \n",
       "...                                                    ...  \n",
       "4776515  command ['/usr/bin/squeue', '-o', '%i %T', '-u...  \n",
       "4776516  command ['/usr/bin/squeue', '-o', '%i %T', '-u...  \n",
       "4776517  command ['/usr/bin/squeue', '-o', '%i %T', '-u...  \n",
       "4776518  command ['/usr/bin/squeue', '-o', '%i %T', '-u...  \n",
       "4776519  command ['/usr/bin/sbatch', '/tmp/condor_g_scr...  \n",
       "\n",
       "[4776520 rows x 6 columns]"
      ]
     },
     "execution_count": 154,
     "metadata": {},
     "output_type": "execute_result"
    }
   ],
   "source": [
    "header_list = ['DATE', 'USER', 'RETRY', 'TIME', 'RETURNCODE', 'COMMAND']\n",
    "data = pd.read_csv('../data/slurm_wrapper_ce6.log', names=header_list, sep=' - ')\n",
    "\n",
    "data"
   ]
  },
  {
   "cell_type": "code",
   "execution_count": 155,
   "id": "a1ee3f7e",
   "metadata": {},
   "outputs": [
    {
     "data": {
      "text/html": [
       "<div>\n",
       "<style scoped>\n",
       "    .dataframe tbody tr th:only-of-type {\n",
       "        vertical-align: middle;\n",
       "    }\n",
       "\n",
       "    .dataframe tbody tr th {\n",
       "        vertical-align: top;\n",
       "    }\n",
       "\n",
       "    .dataframe thead th {\n",
       "        text-align: right;\n",
       "    }\n",
       "</style>\n",
       "<table border=\"1\" class=\"dataframe\">\n",
       "  <thead>\n",
       "    <tr style=\"text-align: right;\">\n",
       "      <th></th>\n",
       "      <th>DATE</th>\n",
       "      <th>USER</th>\n",
       "      <th>RETRY</th>\n",
       "      <th>TIME</th>\n",
       "      <th>RETURNCODE</th>\n",
       "      <th>COMMAND</th>\n",
       "    </tr>\n",
       "  </thead>\n",
       "  <tbody>\n",
       "    <tr>\n",
       "      <th>0</th>\n",
       "      <td>2020-10-16 10:37:44.163454</td>\n",
       "      <td>9202</td>\n",
       "      <td>0</td>\n",
       "      <td>0.08495402336120605</td>\n",
       "      <td>0</td>\n",
       "      <td>['/usr/bin/scontrol', 'show', 'job', '24997187']</td>\n",
       "    </tr>\n",
       "    <tr>\n",
       "      <th>1</th>\n",
       "      <td>2020-10-16 10:37:44.206654</td>\n",
       "      <td>9202</td>\n",
       "      <td>0</td>\n",
       "      <td>0.08943057060241699</td>\n",
       "      <td>0</td>\n",
       "      <td>['/usr/bin/scontrol', 'show', 'job', '24997190']</td>\n",
       "    </tr>\n",
       "    <tr>\n",
       "      <th>2</th>\n",
       "      <td>2020-10-16 10:37:44.218760</td>\n",
       "      <td>9202</td>\n",
       "      <td>0</td>\n",
       "      <td>0.05928945541381836</td>\n",
       "      <td>0</td>\n",
       "      <td>['/usr/bin/scontrol', 'show', 'job', '24997193']</td>\n",
       "    </tr>\n",
       "    <tr>\n",
       "      <th>3</th>\n",
       "      <td>2020-10-16 10:37:44.256403</td>\n",
       "      <td>9202</td>\n",
       "      <td>0</td>\n",
       "      <td>0.038695573806762695</td>\n",
       "      <td>0</td>\n",
       "      <td>['/usr/bin/scontrol', 'show', 'job', '24997189']</td>\n",
       "    </tr>\n",
       "    <tr>\n",
       "      <th>4</th>\n",
       "      <td>2020-10-16 10:37:44.611603</td>\n",
       "      <td>9202</td>\n",
       "      <td>0</td>\n",
       "      <td>0.03343677520751953</td>\n",
       "      <td>0</td>\n",
       "      <td>['/usr/bin/scontrol', 'show', 'job', '24997192']</td>\n",
       "    </tr>\n",
       "  </tbody>\n",
       "</table>\n",
       "</div>"
      ],
      "text/plain": [
       "                         DATE  USER RETRY                  TIME RETURNCODE  \\\n",
       "0  2020-10-16 10:37:44.163454  9202     0   0.08495402336120605          0   \n",
       "1  2020-10-16 10:37:44.206654  9202     0   0.08943057060241699          0   \n",
       "2  2020-10-16 10:37:44.218760  9202     0   0.05928945541381836          0   \n",
       "3  2020-10-16 10:37:44.256403  9202     0  0.038695573806762695          0   \n",
       "4  2020-10-16 10:37:44.611603  9202     0   0.03343677520751953          0   \n",
       "\n",
       "                                            COMMAND  \n",
       "0  ['/usr/bin/scontrol', 'show', 'job', '24997187']  \n",
       "1  ['/usr/bin/scontrol', 'show', 'job', '24997190']  \n",
       "2  ['/usr/bin/scontrol', 'show', 'job', '24997193']  \n",
       "3  ['/usr/bin/scontrol', 'show', 'job', '24997189']  \n",
       "4  ['/usr/bin/scontrol', 'show', 'job', '24997192']  "
      ]
     },
     "execution_count": 155,
     "metadata": {},
     "output_type": "execute_result"
    }
   ],
   "source": [
    "title_remove = {'USER': 'user ', 'RETRY':'retry ', 'TIME':'time ', 'RETURNCODE':'returncode ', 'COMMAND':'command '}\n",
    "\n",
    "for key in title_remove:\n",
    "    data[key] = data[key].map(lambda x: x.lstrip(title_remove[key]))\n",
    "\n",
    "data.head()"
   ]
  },
  {
   "cell_type": "code",
   "execution_count": 156,
   "id": "735b8f5b",
   "metadata": {},
   "outputs": [],
   "source": [
    "#data = data.drop(columns='RETRY')\n",
    "#data = data[data['RETURNCODE'] != 'returncode 0']\n",
    "#data"
   ]
  },
  {
   "cell_type": "code",
   "execution_count": 157,
   "id": "ef213472",
   "metadata": {},
   "outputs": [
    {
     "data": {
      "text/html": [
       "<div>\n",
       "<style scoped>\n",
       "    .dataframe tbody tr th:only-of-type {\n",
       "        vertical-align: middle;\n",
       "    }\n",
       "\n",
       "    .dataframe tbody tr th {\n",
       "        vertical-align: top;\n",
       "    }\n",
       "\n",
       "    .dataframe thead th {\n",
       "        text-align: right;\n",
       "    }\n",
       "</style>\n",
       "<table border=\"1\" class=\"dataframe\">\n",
       "  <thead>\n",
       "    <tr style=\"text-align: right;\">\n",
       "      <th></th>\n",
       "      <th>DATE</th>\n",
       "      <th>USER</th>\n",
       "      <th>RETRY</th>\n",
       "      <th>TIME</th>\n",
       "      <th>RETURNCODE</th>\n",
       "      <th>COMMAND</th>\n",
       "    </tr>\n",
       "  </thead>\n",
       "  <tbody>\n",
       "    <tr>\n",
       "      <th>13</th>\n",
       "      <td>2020-10-16 10:38:29.869156</td>\n",
       "      <td>9204</td>\n",
       "      <td>0</td>\n",
       "      <td>0.06946611404418945</td>\n",
       "      <td>0</td>\n",
       "      <td>['/usr/bin/sbatch', '/tmp/condor_g_scratch.0x5...</td>\n",
       "    </tr>\n",
       "    <tr>\n",
       "      <th>20</th>\n",
       "      <td>2020-10-16 10:39:44.355935</td>\n",
       "      <td>9204</td>\n",
       "      <td>0</td>\n",
       "      <td>8.835923194885254</td>\n",
       "      <td>0</td>\n",
       "      <td>['/usr/bin/scontrol', 'show', 'job']</td>\n",
       "    </tr>\n",
       "    <tr>\n",
       "      <th>36</th>\n",
       "      <td>2020-10-16 10:40:51.756875</td>\n",
       "      <td>9204</td>\n",
       "      <td>0</td>\n",
       "      <td>6.003079652786255</td>\n",
       "      <td>0</td>\n",
       "      <td>['/usr/bin/scontrol', 'show', 'job']</td>\n",
       "    </tr>\n",
       "    <tr>\n",
       "      <th>37</th>\n",
       "      <td>2020-10-16 10:40:55.596886</td>\n",
       "      <td>9204</td>\n",
       "      <td>0</td>\n",
       "      <td>0.14368605613708496</td>\n",
       "      <td>0</td>\n",
       "      <td>['/usr/bin/sacct', '-j', '24997282', '--noconv...</td>\n",
       "    </tr>\n",
       "    <tr>\n",
       "      <th>307</th>\n",
       "      <td>2020-10-16 11:08:28.127242</td>\n",
       "      <td>9204</td>\n",
       "      <td>0</td>\n",
       "      <td>2.43306303024292</td>\n",
       "      <td>0</td>\n",
       "      <td>['/usr/bin/sbatch', '/tmp/condor_g_scratch.0x5...</td>\n",
       "    </tr>\n",
       "  </tbody>\n",
       "</table>\n",
       "</div>"
      ],
      "text/plain": [
       "                           DATE  USER RETRY                 TIME RETURNCODE  \\\n",
       "13   2020-10-16 10:38:29.869156  9204     0  0.06946611404418945          0   \n",
       "20   2020-10-16 10:39:44.355935  9204     0    8.835923194885254          0   \n",
       "36   2020-10-16 10:40:51.756875  9204     0    6.003079652786255          0   \n",
       "37   2020-10-16 10:40:55.596886  9204     0  0.14368605613708496          0   \n",
       "307  2020-10-16 11:08:28.127242  9204     0     2.43306303024292          0   \n",
       "\n",
       "                                               COMMAND  \n",
       "13   ['/usr/bin/sbatch', '/tmp/condor_g_scratch.0x5...  \n",
       "20                ['/usr/bin/scontrol', 'show', 'job']  \n",
       "36                ['/usr/bin/scontrol', 'show', 'job']  \n",
       "37   ['/usr/bin/sacct', '-j', '24997282', '--noconv...  \n",
       "307  ['/usr/bin/sbatch', '/tmp/condor_g_scratch.0x5...  "
      ]
     },
     "execution_count": 157,
     "metadata": {},
     "output_type": "execute_result"
    }
   ],
   "source": [
    "data_user = data[data['USER'] == '9204']\n",
    "data_user.head()\n"
   ]
  },
  {
   "cell_type": "code",
   "execution_count": 159,
   "id": "a09f3862",
   "metadata": {
    "scrolled": true
   },
   "outputs": [
    {
     "data": {
      "text/plain": [
       "(154862, 7)"
      ]
     },
     "execution_count": 159,
     "metadata": {},
     "output_type": "execute_result"
    }
   ],
   "source": [
    "#data_user = (data_user[data_user['COMMAND'].str.contains('sbatch')]\n",
    "#                   .reset_index()\n",
    "#                   .drop(columns='index'))\n",
    "\n",
    "\n",
    "data_user['SERVER'] = 'ce6'\n",
    "data_user.shape"
   ]
  },
  {
   "cell_type": "code",
   "execution_count": 160,
   "id": "685726fa",
   "metadata": {},
   "outputs": [
    {
     "data": {
      "text/plain": [
       "(154862, 7)"
      ]
     },
     "execution_count": 160,
     "metadata": {},
     "output_type": "execute_result"
    }
   ],
   "source": [
    "data_user['TIME'] = pd.to_numeric(data_user['TIME'])\n",
    "#data_user = data_user[(data_user['RETURNCODE'] == '1') & (data_user['TIME'] > 15)]\n",
    "data_user.shape"
   ]
  },
  {
   "cell_type": "code",
   "execution_count": 161,
   "id": "3ada0ba9",
   "metadata": {},
   "outputs": [],
   "source": [
    "data_two = pd.read_csv('../data/slurm_wrapper_ce5.log', names=header_list, sep=' - ')"
   ]
  },
  {
   "cell_type": "code",
   "execution_count": 162,
   "id": "10e0eb4a",
   "metadata": {},
   "outputs": [
    {
     "data": {
      "text/html": [
       "<div>\n",
       "<style scoped>\n",
       "    .dataframe tbody tr th:only-of-type {\n",
       "        vertical-align: middle;\n",
       "    }\n",
       "\n",
       "    .dataframe tbody tr th {\n",
       "        vertical-align: top;\n",
       "    }\n",
       "\n",
       "    .dataframe thead th {\n",
       "        text-align: right;\n",
       "    }\n",
       "</style>\n",
       "<table border=\"1\" class=\"dataframe\">\n",
       "  <thead>\n",
       "    <tr style=\"text-align: right;\">\n",
       "      <th></th>\n",
       "      <th>DATE</th>\n",
       "      <th>USER</th>\n",
       "      <th>RETRY</th>\n",
       "      <th>TIME</th>\n",
       "      <th>RETURNCODE</th>\n",
       "      <th>COMMAND</th>\n",
       "      <th>SERVER</th>\n",
       "    </tr>\n",
       "  </thead>\n",
       "  <tbody>\n",
       "    <tr>\n",
       "      <th>0</th>\n",
       "      <td>2020-10-16 08:15:39.278699</td>\n",
       "      <td>0</td>\n",
       "      <td>0</td>\n",
       "      <td>0.07347559928894043</td>\n",
       "      <td>0</td>\n",
       "      <td>['/usr/bin/sacct', '-u', 'appelte1', '-S', '20...</td>\n",
       "      <td>ce5</td>\n",
       "    </tr>\n",
       "    <tr>\n",
       "      <th>1</th>\n",
       "      <td>2020-10-16 08:18:08.313309</td>\n",
       "      <td>0</td>\n",
       "      <td>0</td>\n",
       "      <td>0.18363237380981445</td>\n",
       "      <td>0</td>\n",
       "      <td>['/usr/bin/sacct', '-u', 'appelte1', '-S', '20...</td>\n",
       "      <td>ce5</td>\n",
       "    </tr>\n",
       "    <tr>\n",
       "      <th>2</th>\n",
       "      <td>2020-10-16 08:22:48.128689</td>\n",
       "      <td>0</td>\n",
       "      <td>0</td>\n",
       "      <td>0.07547116279602051</td>\n",
       "      <td>0</td>\n",
       "      <td>['/usr/bin/sacct', '-u', 'appelte1', '-S', '20...</td>\n",
       "      <td>ce5</td>\n",
       "    </tr>\n",
       "    <tr>\n",
       "      <th>3</th>\n",
       "      <td>2020-10-16 08:25:13.257408</td>\n",
       "      <td>0</td>\n",
       "      <td>0</td>\n",
       "      <td>0.09484362602233887</td>\n",
       "      <td>0</td>\n",
       "      <td>['/usr/bin/sacct', '-u', 'appelte1', '-S', '20...</td>\n",
       "      <td>ce5</td>\n",
       "    </tr>\n",
       "    <tr>\n",
       "      <th>4</th>\n",
       "      <td>2020-10-16 08:31:01.460723</td>\n",
       "      <td>0</td>\n",
       "      <td>0</td>\n",
       "      <td>0.07498788833618164</td>\n",
       "      <td>0</td>\n",
       "      <td>['/usr/bin/sacct', '-u', 'appelte1', '-S', '20...</td>\n",
       "      <td>ce5</td>\n",
       "    </tr>\n",
       "  </tbody>\n",
       "</table>\n",
       "</div>"
      ],
      "text/plain": [
       "                         DATE USER RETRY                 TIME RETURNCODE  \\\n",
       "0  2020-10-16 08:15:39.278699    0     0  0.07347559928894043          0   \n",
       "1  2020-10-16 08:18:08.313309    0     0  0.18363237380981445          0   \n",
       "2  2020-10-16 08:22:48.128689    0     0  0.07547116279602051          0   \n",
       "3  2020-10-16 08:25:13.257408    0     0  0.09484362602233887          0   \n",
       "4  2020-10-16 08:31:01.460723    0     0  0.07498788833618164          0   \n",
       "\n",
       "                                             COMMAND SERVER  \n",
       "0  ['/usr/bin/sacct', '-u', 'appelte1', '-S', '20...    ce5  \n",
       "1  ['/usr/bin/sacct', '-u', 'appelte1', '-S', '20...    ce5  \n",
       "2  ['/usr/bin/sacct', '-u', 'appelte1', '-S', '20...    ce5  \n",
       "3  ['/usr/bin/sacct', '-u', 'appelte1', '-S', '20...    ce5  \n",
       "4  ['/usr/bin/sacct', '-u', 'appelte1', '-S', '20...    ce5  "
      ]
     },
     "execution_count": 162,
     "metadata": {},
     "output_type": "execute_result"
    }
   ],
   "source": [
    "for key in title_remove:\n",
    "    data_two[key] = data_two[key].map(lambda x: x.lstrip(title_remove[key]))\n",
    "\n",
    "data_two['SERVER'] = 'ce5'\n",
    "    \n",
    "data_two.head()"
   ]
  },
  {
   "cell_type": "code",
   "execution_count": 163,
   "id": "36bbf58e",
   "metadata": {},
   "outputs": [
    {
     "data": {
      "text/plain": [
       "(159847, 7)"
      ]
     },
     "execution_count": 163,
     "metadata": {},
     "output_type": "execute_result"
    }
   ],
   "source": [
    "data_user_two = data_two[data_two['USER'] == '9204']\n",
    "\n",
    "data_user_two.shape"
   ]
  },
  {
   "cell_type": "code",
   "execution_count": 164,
   "id": "dcbcffe5",
   "metadata": {},
   "outputs": [
    {
     "data": {
      "text/plain": [
       "(159847, 7)"
      ]
     },
     "execution_count": 164,
     "metadata": {},
     "output_type": "execute_result"
    }
   ],
   "source": [
    "data_user_two['TIME'] = pd.to_numeric(data_user_two['TIME'])\n",
    "#data_user_two = data_user_two[(data_user_two['RETURNCODE'] == '1') & (data_user_two['TIME'] > 15)]\n",
    "data_user_two.shape"
   ]
  },
  {
   "cell_type": "code",
   "execution_count": 166,
   "id": "a243c2a3",
   "metadata": {},
   "outputs": [
    {
     "data": {
      "text/plain": [
       "(30407, 7)"
      ]
     },
     "execution_count": 166,
     "metadata": {},
     "output_type": "execute_result"
    }
   ],
   "source": [
    "#data_user_two = (data_user_two[data_user_two['COMMAND'].str.contains('sbatch')]\n",
    "#                   .reset_index()\n",
    "#                   .drop(columns='index'))\n",
    "data_user_two.shape"
   ]
  },
  {
   "cell_type": "code",
   "execution_count": 167,
   "id": "e97473a5",
   "metadata": {
    "scrolled": true
   },
   "outputs": [
    {
     "data": {
      "text/plain": [
       "(31892, 7)"
      ]
     },
     "execution_count": 167,
     "metadata": {},
     "output_type": "execute_result"
    }
   ],
   "source": [
    "logs= data_user_sbatch.append(data_user_two)\n",
    "logs.shape"
   ]
  },
  {
   "cell_type": "code",
   "execution_count": null,
   "id": "2267d786",
   "metadata": {},
   "outputs": [],
   "source": [
    "logs['Date'] = pd.to_datetime(logs['Date'])\n",
    "logs.info()"
   ]
  },
  {
   "cell_type": "code",
   "execution_count": null,
   "id": "ca2fc643",
   "metadata": {},
   "outputs": [],
   "source": [
    "data_user_sbatch = data_user.sort_values('Date')\n",
    "data_user_sbatch\n",
    "\n",
    "data_user_sbatch = data_user_sbatch.reset_index()\n",
    "data_user_sbatch = data_user_sbatch.drop(columns='index')\n",
    "data_user_sbatch\n",
    "\n",
    "data_user_sbatch['total_every_hour'] = (data_user_sbatch\n",
    "                           .rolling('60min', on = 'Date')['Returncode']\n",
    "                           .count())\n"
   ]
  },
  {
   "cell_type": "code",
   "execution_count": null,
   "id": "4e109ec6",
   "metadata": {},
   "outputs": [],
   "source": []
  }
 ],
 "metadata": {
  "kernelspec": {
   "display_name": "Python 3",
   "language": "python",
   "name": "python3"
  },
  "language_info": {
   "codemirror_mode": {
    "name": "ipython",
    "version": 3
   },
   "file_extension": ".py",
   "mimetype": "text/x-python",
   "name": "python",
   "nbconvert_exporter": "python",
   "pygments_lexer": "ipython3",
   "version": "3.8.8"
  }
 },
 "nbformat": 4,
 "nbformat_minor": 5
}
